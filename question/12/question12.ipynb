{
 "cells": [
  {
   "cell_type": "code",
   "execution_count": 14,
   "metadata": {
    "collapsed": false
   },
   "outputs": [
    {
     "data": {
      "text/plain": [
       "('高知県\\n埼玉県\\n岐阜県\\n山形県\\n山梨県\\n和歌山県\\n静岡県\\n山梨県\\n埼玉県\\n群馬県\\n群馬県\\n愛知県\\n千葉県\\n静岡県\\n愛媛県\\n山形県\\n岐阜県\\n群馬県\\n千葉県\\n埼玉県\\n大阪府\\n山梨県\\n山形県\\n愛知県\\n',\n",
       " '')"
      ]
     },
     "execution_count": 14,
     "metadata": {},
     "output_type": "execute_result"
    }
   ],
   "source": [
    "import subprocess\n",
    "\n",
    "with open('../../resources/hightemp.txt', 'r') as f, open('./col1.txt', 'w') as dist_1, open('./col2.txt', 'w') as dist_2:\n",
    "    for line in f:\n",
    "        arr = line.split('\\t')\n",
    "        dist_1.write(\"{0}\\n\".format(arr[0]))\n",
    "        dist_2.write(\"{0}\\n\".format(arr[1]))\n",
    "\n",
    "proc1 = subprocess.Popen(['cut', '-f','1','./col1.txt'], stderr=subprocess.PIPE, stdout=subprocess.PIPE, universal_newlines=True)\n",
    "proc1.communicate()\n",
    "\n",
    "proc2 = subprocess.Popen(['cut', '-f','1','./col2.txt'], stderr=subprocess.PIPE, stdout=subprocess.PIPE, universal_newlines=True)\n",
    "proc2.communicate()\n",
    "\n"
   ]
  },
  {
   "cell_type": "code",
   "execution_count": null,
   "metadata": {
    "collapsed": true
   },
   "outputs": [],
   "source": []
  },
  {
   "cell_type": "code",
   "execution_count": null,
   "metadata": {
    "collapsed": true
   },
   "outputs": [],
   "source": []
  }
 ],
 "metadata": {
  "kernelspec": {
   "display_name": "Python 3",
   "language": "python",
   "name": "python3"
  },
  "language_info": {
   "codemirror_mode": {
    "name": "ipython",
    "version": 3
   },
   "file_extension": ".py",
   "mimetype": "text/x-python",
   "name": "python",
   "nbconvert_exporter": "python",
   "pygments_lexer": "ipython3",
   "version": "3.5.0b2"
  }
 },
 "nbformat": 4,
 "nbformat_minor": 0
}
