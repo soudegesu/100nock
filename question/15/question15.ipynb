{
 "cells": [
  {
   "cell_type": "code",
   "execution_count": 2,
   "metadata": {
    "collapsed": false
   },
   "outputs": [
    {
     "data": {
      "text/plain": [
       "('==> ../../resources/hightemp.txt <==\\n愛媛県\\t宇和島\\t40.2\\t1927-07-22\\n山形県\\t酒田\\t40.1\\t1978-08-03\\n岐阜県\\t美濃\\t40\\t2007-08-16\\n群馬県\\t前橋\\t40\\t2001-07-24\\n千葉県\\t茂原\\t39.9\\t2013-08-11\\n埼玉県\\t鳩山\\t39.9\\t1997-07-05\\n大阪府\\t豊中\\t39.9\\t1994-08-08\\n山梨県\\t大月\\t39.9\\t1990-07-19\\n山形県\\t鶴岡\\t39.9\\t1978-08-03\\n愛知県\\t名古屋\\t39.9\\t1942-08-02',\n",
       " 'tail: 5: No such file or directory\\n')"
      ]
     },
     "execution_count": 2,
     "metadata": {},
     "output_type": "execute_result"
    }
   ],
   "source": [
    "args = \"5\"\n",
    "\n",
    "import subprocess\n",
    "\n",
    "proc = subprocess.Popen(['tail', args, '../../resources/hightemp.txt'], stderr=subprocess.PIPE, stdout=subprocess.PIPE, universal_newlines=True)\n",
    "proc.communicate()"
   ]
  },
  {
   "cell_type": "code",
   "execution_count": null,
   "metadata": {
    "collapsed": true
   },
   "outputs": [],
   "source": []
  }
 ],
 "metadata": {
  "kernelspec": {
   "display_name": "Python 3",
   "language": "python",
   "name": "python3"
  },
  "language_info": {
   "codemirror_mode": {
    "name": "ipython",
    "version": 3
   },
   "file_extension": ".py",
   "mimetype": "text/x-python",
   "name": "python",
   "nbconvert_exporter": "python",
   "pygments_lexer": "ipython3",
   "version": "3.5.0b2"
  }
 },
 "nbformat": 4,
 "nbformat_minor": 0
}
