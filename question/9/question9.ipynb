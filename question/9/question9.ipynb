{
 "cells": [
  {
   "cell_type": "code",
   "execution_count": 33,
   "metadata": {
    "collapsed": false
   },
   "outputs": [
    {
     "name": "stdout",
     "output_type": "stream",
     "text": [
      "I clduon't belevie that I cuold atuclaly unetnrsdad what I was rinadeg : the paneoehmnl pweor of the haumn mind .\n"
     ]
    }
   ],
   "source": [
    "import random\n",
    "text = \"I couldn't believe that I could actually understand what I was reading : the phenomenal power of the human mind .\".split(\" \")\n",
    "\n",
    "result = []\n",
    "for word in text:\n",
    "    if len(word) > 4:\n",
    "        parts = [w for w in word[1:len(word)-1:1]]\n",
    "        random.shuffle(parts)\n",
    "        result.append(\"%s%s%s\" % (word[:1:], \"\".join(parts), word[len(word)-1:len(word):]))\n",
    "    else:\n",
    "        result.append(word)\n",
    "\n",
    "print(\" \".join(result))\n",
    "        "
   ]
  },
  {
   "cell_type": "code",
   "execution_count": null,
   "metadata": {
    "collapsed": true
   },
   "outputs": [],
   "source": []
  }
 ],
 "metadata": {
  "kernelspec": {
   "display_name": "Python 3",
   "language": "python",
   "name": "python3"
  },
  "language_info": {
   "codemirror_mode": {
    "name": "ipython",
    "version": 3
   },
   "file_extension": ".py",
   "mimetype": "text/x-python",
   "name": "python",
   "nbconvert_exporter": "python",
   "pygments_lexer": "ipython3",
   "version": "3.5.0b2"
  }
 },
 "nbformat": 4,
 "nbformat_minor": 0
}
