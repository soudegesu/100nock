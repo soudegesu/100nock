{
 "cells": [
  {
   "cell_type": "code",
   "execution_count": 4,
   "metadata": {
    "collapsed": true
   },
   "outputs": [],
   "source": [
    "args = '13'"
   ]
  },
  {
   "cell_type": "code",
   "execution_count": 7,
   "metadata": {
    "collapsed": false
   },
   "outputs": [
    {
     "data": {
      "text/plain": [
       "('==> ../../resources/hightemp.txt <==\\n高知県\\t江川崎\\t41\\t2013-08-12\\n埼玉県\\t熊谷\\t40.9\\t2007-08-16\\n岐阜県\\t多治見\\t40.9\\t2007-08-16\\n山形県\\t山形\\t40.8\\t1933-07-25\\n山梨県\\t甲府\\t40.7\\t2013-08-10\\n和歌山県\\tかつらぎ\\t40.6\\t1994-08-08\\n静岡県\\t天竜\\t40.6\\t1994-08-04\\n山梨県\\t勝沼\\t40.5\\t2013-08-10\\n埼玉県\\t越谷\\t40.4\\t2007-08-16\\n群馬県\\t館林\\t40.3\\t2007-08-16\\n',\n",
       " 'head: 13: No such file or directory\\n')"
      ]
     },
     "execution_count": 7,
     "metadata": {},
     "output_type": "execute_result"
    }
   ],
   "source": [
    "import subprocess\n",
    "\n",
    "proc = subprocess.Popen(['head', args, '../../resources/hightemp.txt'], stderr=subprocess.PIPE, stdout=subprocess.PIPE, universal_newlines=True)\n",
    "proc.communicate()"
   ]
  },
  {
   "cell_type": "code",
   "execution_count": null,
   "metadata": {
    "collapsed": true
   },
   "outputs": [],
   "source": []
  }
 ],
 "metadata": {
  "kernelspec": {
   "display_name": "Python 3",
   "language": "python",
   "name": "python3"
  },
  "language_info": {
   "codemirror_mode": {
    "name": "ipython",
    "version": 3
   },
   "file_extension": ".py",
   "mimetype": "text/x-python",
   "name": "python",
   "nbconvert_exporter": "python",
   "pygments_lexer": "ipython3",
   "version": "3.5.0b2"
  }
 },
 "nbformat": 4,
 "nbformat_minor": 0
}
