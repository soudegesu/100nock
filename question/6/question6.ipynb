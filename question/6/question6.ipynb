{
 "cells": [
  {
   "cell_type": "code",
   "execution_count": 17,
   "metadata": {
    "collapsed": false
   },
   "outputs": [
    {
     "name": "stdout",
     "output_type": "stream",
     "text": [
      "積集合\n",
      "{'gr', 'ad', 'se', 'ra', 'e', 'ph', 'ag', 'pa', 'ap', 'ar', 'h', 'di', 'is'}\n",
      "和集合\n",
      "{'ra', 'ap', 'ar', 'pa'}\n",
      "差集合\n",
      "{'di', 'e', 'ad', 'is', 'se'}\n",
      "True\n",
      "False\n"
     ]
    }
   ],
   "source": [
    "paradise = \"paraparaparadise\"\n",
    "paragraph = \"paragraph\"\n",
    "\n",
    "def bi_gram(text):\n",
    "    return [text[i: i+2] for i in range(len(text))]\n",
    "\n",
    "x = set(bi_gram(paradise))\n",
    "y = set(bi_gram(paragraph))\n",
    "\n",
    "print('積集合')\n",
    "print(x | y)\n",
    "print('和集合')\n",
    "print(x & y)\n",
    "print('差集合')\n",
    "print(x - y)\n",
    "\n",
    "print('se' in x)\n",
    "print('se' in y)\n"
   ]
  },
  {
   "cell_type": "code",
   "execution_count": null,
   "metadata": {
    "collapsed": true
   },
   "outputs": [],
   "source": []
  }
 ],
 "metadata": {
  "kernelspec": {
   "display_name": "Python 3",
   "language": "python",
   "name": "python3"
  },
  "language_info": {
   "codemirror_mode": {
    "name": "ipython",
    "version": 3
   },
   "file_extension": ".py",
   "mimetype": "text/x-python",
   "name": "python",
   "nbconvert_exporter": "python",
   "pygments_lexer": "ipython3",
   "version": "3.5.0b2"
  }
 },
 "nbformat": 4,
 "nbformat_minor": 0
}
