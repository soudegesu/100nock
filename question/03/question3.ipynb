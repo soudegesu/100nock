{
 "cells": [
  {
   "cell_type": "code",
   "execution_count": 3,
   "metadata": {
    "collapsed": false
   },
   "outputs": [],
   "source": []
  },
  {
   "cell_type": "raw",
   "metadata": {},
   "source": [
    "\n",
    "    "
   ]
  },
  {
   "cell_type": "code",
   "execution_count": 33,
   "metadata": {
    "collapsed": false
   },
   "outputs": [
    {
     "name": "stdout",
     "output_type": "stream",
     "text": [
      "N: 1\n",
      "o: 1\n",
      "w: 1\n",
      "\n",
      "I: 1\n",
      "\n",
      "n: 1\n",
      "e: 2\n",
      "e: 2\n",
      "d: 1\n",
      "\n",
      "a: 1\n",
      "\n",
      "d: 1\n",
      "r: 1\n",
      "i: 1\n",
      "n: 1\n",
      "k: 1\n",
      "\n",
      "a: 1\n",
      "l: 2\n",
      "c: 2\n",
      "o: 2\n",
      "h: 1\n",
      "o: 2\n",
      "l: 2\n",
      "i: 1\n",
      "c: 2\n",
      "\n",
      "o: 1\n",
      "f: 1\n",
      "\n",
      "c: 1\n",
      "o: 1\n",
      "u: 1\n",
      "r: 1\n",
      "s: 1\n",
      "e: 1\n",
      "\n",
      "a: 1\n",
      "f: 1\n",
      "t: 1\n",
      "e: 1\n",
      "r: 1\n",
      "\n",
      "t: 1\n",
      "h: 1\n",
      "e: 1\n",
      "\n",
      "h: 1\n",
      "e: 1\n",
      "a: 1\n",
      "v: 1\n",
      "y: 1\n",
      "\n",
      "l: 1\n",
      "e: 2\n",
      "c: 1\n",
      "t: 1\n",
      "u: 1\n",
      "r: 1\n",
      "e: 2\n",
      "s: 1\n",
      "\n",
      "i: 2\n",
      "n: 2\n",
      "v: 2\n",
      "o: 1\n",
      "l: 1\n",
      "v: 2\n",
      "i: 2\n",
      "n: 2\n",
      "g: 1\n",
      "\n",
      "q: 1\n",
      "u: 2\n",
      "a: 1\n",
      "n: 1\n",
      "t: 1\n",
      "u: 2\n",
      "m: 1\n",
      "\n",
      "m: 1\n",
      "e: 1\n",
      "c: 2\n",
      "h: 1\n",
      "a: 1\n",
      "n: 1\n",
      "i: 1\n",
      "c: 2\n",
      "s: 1\n",
      "\n"
     ]
    }
   ],
   "source": [
    "from collections import Counter\n",
    "\n",
    "text = \"Now I need a drink, alcoholic of course, after the heavy lectures involving quantum mechanics.\".replace(\",\",\"\").replace(\".\", \"\")\n",
    "words = [t for t in text.split(' ')]\n",
    "\n",
    "for w in [word for word in words]:\n",
    "    count = Counter(w)\n",
    "    for c in w:\n",
    "        print(\"%s: %s\" % (c, count[c]))\n",
    "    print(\"\")"
   ]
  },
  {
   "cell_type": "code",
   "execution_count": null,
   "metadata": {
    "collapsed": false
   },
   "outputs": [],
   "source": []
  },
  {
   "cell_type": "code",
   "execution_count": null,
   "metadata": {
    "collapsed": true
   },
   "outputs": [],
   "source": []
  }
 ],
 "metadata": {
  "kernelspec": {
   "display_name": "Python 3",
   "language": "python",
   "name": "python3"
  },
  "language_info": {
   "codemirror_mode": {
    "name": "ipython",
    "version": 3
   },
   "file_extension": ".py",
   "mimetype": "text/x-python",
   "name": "python",
   "nbconvert_exporter": "python",
   "pygments_lexer": "ipython3",
   "version": "3.5.0"
  }
 },
 "nbformat": 4,
 "nbformat_minor": 0
}
